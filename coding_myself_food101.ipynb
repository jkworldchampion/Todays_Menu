{
  "nbformat": 4,
  "nbformat_minor": 0,
  "metadata": {
    "colab": {
      "name": "coding_myself_food101.ipynb",
      "provenance": [],
      "collapsed_sections": [],
      "mount_file_id": "1yXUBzQY_G5C0xDYLOFFjxMZwbrOsTtmR",
      "authorship_tag": "ABX9TyOyuvbbMbp/aQNMJ6boyanc",
      "include_colab_link": true
    },
    "kernelspec": {
      "name": "python3",
      "display_name": "Python 3"
    },
    "language_info": {
      "name": "python"
    },
    "accelerator": "GPU"
  },
  "cells": [
    {
      "cell_type": "markdown",
      "metadata": {
        "id": "view-in-github",
        "colab_type": "text"
      },
      "source": [
        "<a href=\"https://colab.research.google.com/github/jkworldchampion/Todays_Menu/blob/main/coding_myself_food101.ipynb\" target=\"_parent\"><img src=\"https://colab.research.google.com/assets/colab-badge.svg\" alt=\"Open In Colab\"/></a>"
      ]
    },
    {
      "cell_type": "code",
      "execution_count": 26,
      "metadata": {
        "colab": {
          "base_uri": "https://localhost:8080/"
        },
        "id": "e2znYaZ-mYj6",
        "outputId": "e9dc9e13-be71-4f3c-997c-7269ab18d7a0"
      },
      "outputs": [
        {
          "output_type": "stream",
          "name": "stdout",
          "text": [
            "2.8.2\n",
            "/device:GPU:0\n"
          ]
        }
      ],
      "source": [
        "# TensorFlow and tf.keras\n",
        "import tensorflow as tf  \n",
        "\n",
        "# Helper libraries\n",
        "import numpy as np\n",
        "import matplotlib.pyplot as plt\n",
        "import os\n",
        "from collections import defaultdict\n",
        "from shutil import copy\n",
        "from PIL import Image\n",
        "\n",
        "print(tf.__version__)\n",
        "print(tf.test.gpu_device_name())  # GPU"
      ]
    },
    {
      "cell_type": "markdown",
      "source": [
        "## 데이터 불러오기"
      ],
      "metadata": {
        "id": "z_TBytFtmvDQ"
      }
    },
    {
      "cell_type": "code",
      "source": [
        "!wget \"http://data.vision.ee.ethz.ch/cvl/food-101.tar.gz\""
      ],
      "metadata": {
        "colab": {
          "base_uri": "https://localhost:8080/"
        },
        "id": "6JD5gmRBmr7_",
        "outputId": "c6d9a06e-3a96-424b-8988-6b1d027c4318"
      },
      "execution_count": 3,
      "outputs": [
        {
          "output_type": "stream",
          "name": "stdout",
          "text": [
            "--2022-06-07 09:22:11--  http://data.vision.ee.ethz.ch/cvl/food-101.tar.gz\n",
            "Resolving data.vision.ee.ethz.ch (data.vision.ee.ethz.ch)... 129.132.52.178, 2001:67c:10ec:36c2::178\n",
            "Connecting to data.vision.ee.ethz.ch (data.vision.ee.ethz.ch)|129.132.52.178|:80... connected.\n",
            "HTTP request sent, awaiting response... 302 Found\n",
            "Location: https://data.vision.ee.ethz.ch/cvl/food-101.tar.gz [following]\n",
            "--2022-06-07 09:22:11--  https://data.vision.ee.ethz.ch/cvl/food-101.tar.gz\n",
            "Connecting to data.vision.ee.ethz.ch (data.vision.ee.ethz.ch)|129.132.52.178|:443... connected.\n",
            "HTTP request sent, awaiting response... 200 OK\n",
            "Length: 4996278331 (4.7G) [application/x-gzip]\n",
            "Saving to: ‘food-101.tar.gz’\n",
            "\n",
            "food-101.tar.gz     100%[===================>]   4.65G   101MB/s    in 51s     \n",
            "\n",
            "2022-06-07 09:23:02 (93.8 MB/s) - ‘food-101.tar.gz’ saved [4996278331/4996278331]\n",
            "\n"
          ]
        }
      ]
    },
    {
      "cell_type": "code",
      "source": [
        "!tar xzf food-101.tar.gz  # -v 옵션은 과정이 너무 길어.\n",
        "print(\"압축 해제 완료\")"
      ],
      "metadata": {
        "colab": {
          "base_uri": "https://localhost:8080/"
        },
        "id": "H1UuYLAqnYjO",
        "outputId": "24de7cba-7c8f-428a-89f3-0c354dbbe52f"
      },
      "execution_count": 2,
      "outputs": [
        {
          "output_type": "stream",
          "name": "stdout",
          "text": [
            "^C\n",
            "압축 해제 완료\n"
          ]
        }
      ]
    },
    {
      "cell_type": "code",
      "source": [
        "# trian과 test로 나눈다.\n",
        "def prepare_data(filepath, src, dest):\n",
        "  classes_images = defaultdict(list)  # 값을 지정하지 않으면 해당 값의 key값이 리스트로 디폴트된다.\n",
        "  with open(filepath, 'r') as txt:  # filepath의 파일을 읽기모드로 열어서 txt라고 지명한다.\n",
        "      paths = [read.strip() for read in txt.readlines()] # paths는 한 줄씩 읽은 데이터를 앞뒤의 \\n을 제거한 깔끔한 리스트\n",
        "      for p in paths:  # 리스트에서 한줄씩 p에 할당\n",
        "        food = p.split('/')  # '음식이름/번호'의 데이터를 / 로 나누기\n",
        "        classes_images[food[0]].append(food[1] + '.jpg')  # classes_images리스트에 음식이름에 번호들을 저장.jpg를 붙여서\n",
        "\n",
        "  for food in classes_images.keys():  # 음식이름이 하나씩 food에 할당\n",
        "    print(\"\\nCopying images into \",food) # 무슨 음식 하는지 출력\n",
        "    if not os.path.exists(os.path.join(dest,food)):  # dest/food파일이 존재하지 않는다면\n",
        "      os.makedirs(os.path.join(dest,food))  # 해당 파일을 만든다.\n",
        "    for i in classes_images[food]:\n",
        "      copy(os.path.join(src,food,i), os.path.join(dest,food,i))\n",
        "  print(\"Copying Done!\")"
      ],
      "metadata": {
        "id": "4YqCJTWUoQnu"
      },
      "execution_count": 3,
      "outputs": []
    },
    {
      "cell_type": "code",
      "source": [
        "prepare_data('/content/food-101/meta/train.txt', '/content/food-101/images', 'train')"
      ],
      "metadata": {
        "colab": {
          "base_uri": "https://localhost:8080/"
        },
        "id": "XDDTmbnip35j",
        "outputId": "3479ae40-4a84-42fc-e897-ed68a0aad92c"
      },
      "execution_count": 4,
      "outputs": [
        {
          "output_type": "stream",
          "name": "stdout",
          "text": [
            "\n",
            "Copying images into  apple_pie\n",
            "\n",
            "Copying images into  baby_back_ribs\n",
            "\n",
            "Copying images into  baklava\n",
            "\n",
            "Copying images into  beef_carpaccio\n",
            "\n",
            "Copying images into  beef_tartare\n",
            "\n",
            "Copying images into  beet_salad\n",
            "\n",
            "Copying images into  beignets\n",
            "\n",
            "Copying images into  bibimbap\n",
            "\n",
            "Copying images into  bread_pudding\n",
            "\n",
            "Copying images into  breakfast_burrito\n",
            "\n",
            "Copying images into  bruschetta\n",
            "\n",
            "Copying images into  caesar_salad\n",
            "\n",
            "Copying images into  cannoli\n",
            "\n",
            "Copying images into  caprese_salad\n",
            "\n",
            "Copying images into  carrot_cake\n",
            "\n",
            "Copying images into  ceviche\n",
            "\n",
            "Copying images into  cheesecake\n",
            "\n",
            "Copying images into  cheese_plate\n",
            "\n",
            "Copying images into  chicken_curry\n",
            "\n",
            "Copying images into  chicken_quesadilla\n",
            "\n",
            "Copying images into  chicken_wings\n",
            "\n",
            "Copying images into  chocolate_cake\n",
            "\n",
            "Copying images into  chocolate_mousse\n",
            "\n",
            "Copying images into  churros\n",
            "\n",
            "Copying images into  clam_chowder\n",
            "\n",
            "Copying images into  club_sandwich\n",
            "\n",
            "Copying images into  crab_cakes\n",
            "\n",
            "Copying images into  creme_brulee\n",
            "\n",
            "Copying images into  croque_madame\n",
            "\n",
            "Copying images into  cup_cakes\n",
            "\n",
            "Copying images into  deviled_eggs\n",
            "\n",
            "Copying images into  donuts\n",
            "\n",
            "Copying images into  dumplings\n",
            "\n",
            "Copying images into  edamame\n",
            "\n",
            "Copying images into  eggs_benedict\n",
            "\n",
            "Copying images into  escargots\n",
            "\n",
            "Copying images into  falafel\n",
            "\n",
            "Copying images into  filet_mignon\n",
            "\n",
            "Copying images into  fish_and_chips\n",
            "\n",
            "Copying images into  foie_gras\n",
            "\n",
            "Copying images into  french_fries\n",
            "\n",
            "Copying images into  french_onion_soup\n",
            "\n",
            "Copying images into  french_toast\n",
            "\n",
            "Copying images into  fried_calamari\n",
            "\n",
            "Copying images into  fried_rice\n",
            "\n",
            "Copying images into  frozen_yogurt\n",
            "\n",
            "Copying images into  garlic_bread\n",
            "\n",
            "Copying images into  gnocchi\n",
            "\n",
            "Copying images into  greek_salad\n",
            "\n",
            "Copying images into  grilled_cheese_sandwich\n",
            "\n",
            "Copying images into  grilled_salmon\n",
            "\n",
            "Copying images into  guacamole\n",
            "\n",
            "Copying images into  gyoza\n",
            "\n",
            "Copying images into  hamburger\n",
            "\n",
            "Copying images into  hot_and_sour_soup\n",
            "\n",
            "Copying images into  hot_dog\n",
            "\n",
            "Copying images into  huevos_rancheros\n",
            "\n",
            "Copying images into  hummus\n",
            "\n",
            "Copying images into  ice_cream\n",
            "\n",
            "Copying images into  lasagna\n",
            "\n",
            "Copying images into  lobster_bisque\n",
            "\n",
            "Copying images into  lobster_roll_sandwich\n",
            "\n",
            "Copying images into  macaroni_and_cheese\n",
            "\n",
            "Copying images into  macarons\n",
            "\n",
            "Copying images into  miso_soup\n",
            "\n",
            "Copying images into  mussels\n",
            "\n",
            "Copying images into  nachos\n",
            "\n",
            "Copying images into  omelette\n",
            "\n",
            "Copying images into  onion_rings\n",
            "\n",
            "Copying images into  oysters\n",
            "\n",
            "Copying images into  pad_thai\n",
            "\n",
            "Copying images into  paella\n",
            "\n",
            "Copying images into  pancakes\n",
            "\n",
            "Copying images into  panna_cotta\n",
            "\n",
            "Copying images into  peking_duck\n",
            "\n",
            "Copying images into  pho\n",
            "\n",
            "Copying images into  pizza\n",
            "\n",
            "Copying images into  pork_chop\n",
            "\n",
            "Copying images into  poutine\n",
            "\n",
            "Copying images into  prime_rib\n",
            "\n",
            "Copying images into  pulled_pork_sandwich\n",
            "\n",
            "Copying images into  ramen\n",
            "\n",
            "Copying images into  ravioli\n",
            "\n",
            "Copying images into  red_velvet_cake\n",
            "\n",
            "Copying images into  risotto\n",
            "\n",
            "Copying images into  samosa\n",
            "\n",
            "Copying images into  sashimi\n",
            "\n",
            "Copying images into  scallops\n",
            "\n",
            "Copying images into  seaweed_salad\n",
            "\n",
            "Copying images into  shrimp_and_grits\n",
            "\n",
            "Copying images into  spaghetti_bolognese\n",
            "\n",
            "Copying images into  spaghetti_carbonara\n",
            "\n",
            "Copying images into  spring_rolls\n",
            "\n",
            "Copying images into  steak\n",
            "\n",
            "Copying images into  strawberry_shortcake\n",
            "\n",
            "Copying images into  sushi\n",
            "\n",
            "Copying images into  tacos\n",
            "\n",
            "Copying images into  takoyaki\n",
            "\n",
            "Copying images into  tiramisu\n",
            "\n",
            "Copying images into  tuna_tartare\n",
            "\n",
            "Copying images into  waffles\n",
            "Copying Done!\n"
          ]
        }
      ]
    },
    {
      "cell_type": "code",
      "source": [
        "prepare_data('/content/food-101/meta/test.txt', '/content/food-101/images', 'test')  # 테스트 라는 폴더 만들고, 데이터 넣기"
      ],
      "metadata": {
        "colab": {
          "base_uri": "https://localhost:8080/"
        },
        "id": "dCHoCXMfhfFi",
        "outputId": "cd808cd6-8872-4d75-c866-8215adf4d2b3"
      },
      "execution_count": 5,
      "outputs": [
        {
          "output_type": "stream",
          "name": "stdout",
          "text": [
            "\n",
            "Copying images into  apple_pie\n",
            "\n",
            "Copying images into  baby_back_ribs\n",
            "\n",
            "Copying images into  baklava\n",
            "\n",
            "Copying images into  beef_carpaccio\n",
            "\n",
            "Copying images into  beef_tartare\n",
            "\n",
            "Copying images into  beet_salad\n",
            "\n",
            "Copying images into  beignets\n",
            "\n",
            "Copying images into  bibimbap\n",
            "\n",
            "Copying images into  bread_pudding\n",
            "\n",
            "Copying images into  breakfast_burrito\n",
            "\n",
            "Copying images into  bruschetta\n",
            "\n",
            "Copying images into  caesar_salad\n",
            "\n",
            "Copying images into  cannoli\n",
            "\n",
            "Copying images into  caprese_salad\n",
            "\n",
            "Copying images into  carrot_cake\n",
            "\n",
            "Copying images into  ceviche\n",
            "\n",
            "Copying images into  cheesecake\n",
            "\n",
            "Copying images into  cheese_plate\n",
            "\n",
            "Copying images into  chicken_curry\n",
            "\n",
            "Copying images into  chicken_quesadilla\n",
            "\n",
            "Copying images into  chicken_wings\n",
            "\n",
            "Copying images into  chocolate_cake\n",
            "\n",
            "Copying images into  chocolate_mousse\n",
            "\n",
            "Copying images into  churros\n",
            "\n",
            "Copying images into  clam_chowder\n",
            "\n",
            "Copying images into  club_sandwich\n",
            "\n",
            "Copying images into  crab_cakes\n",
            "\n",
            "Copying images into  creme_brulee\n",
            "\n",
            "Copying images into  croque_madame\n",
            "\n",
            "Copying images into  cup_cakes\n",
            "\n",
            "Copying images into  deviled_eggs\n",
            "\n",
            "Copying images into  donuts\n",
            "\n",
            "Copying images into  dumplings\n",
            "\n",
            "Copying images into  edamame\n",
            "\n",
            "Copying images into  eggs_benedict\n",
            "\n",
            "Copying images into  escargots\n",
            "\n",
            "Copying images into  falafel\n",
            "\n",
            "Copying images into  filet_mignon\n",
            "\n",
            "Copying images into  fish_and_chips\n",
            "\n",
            "Copying images into  foie_gras\n",
            "\n",
            "Copying images into  french_fries\n",
            "\n",
            "Copying images into  french_onion_soup\n",
            "\n",
            "Copying images into  french_toast\n",
            "\n",
            "Copying images into  fried_calamari\n",
            "\n",
            "Copying images into  fried_rice\n",
            "\n",
            "Copying images into  frozen_yogurt\n",
            "\n",
            "Copying images into  garlic_bread\n",
            "\n",
            "Copying images into  gnocchi\n",
            "\n",
            "Copying images into  greek_salad\n",
            "\n",
            "Copying images into  grilled_cheese_sandwich\n",
            "\n",
            "Copying images into  grilled_salmon\n",
            "\n",
            "Copying images into  guacamole\n",
            "\n",
            "Copying images into  gyoza\n",
            "\n",
            "Copying images into  hamburger\n",
            "\n",
            "Copying images into  hot_and_sour_soup\n",
            "\n",
            "Copying images into  hot_dog\n",
            "\n",
            "Copying images into  huevos_rancheros\n",
            "\n",
            "Copying images into  hummus\n",
            "\n",
            "Copying images into  ice_cream\n",
            "\n",
            "Copying images into  lasagna\n",
            "\n",
            "Copying images into  lobster_bisque\n",
            "\n",
            "Copying images into  lobster_roll_sandwich\n",
            "\n",
            "Copying images into  macaroni_and_cheese\n",
            "\n",
            "Copying images into  macarons\n",
            "\n",
            "Copying images into  miso_soup\n",
            "\n",
            "Copying images into  mussels\n",
            "\n",
            "Copying images into  nachos\n",
            "\n",
            "Copying images into  omelette\n",
            "\n",
            "Copying images into  onion_rings\n",
            "\n",
            "Copying images into  oysters\n",
            "\n",
            "Copying images into  pad_thai\n",
            "\n",
            "Copying images into  paella\n",
            "\n",
            "Copying images into  pancakes\n",
            "\n",
            "Copying images into  panna_cotta\n",
            "\n",
            "Copying images into  peking_duck\n",
            "\n",
            "Copying images into  pho\n",
            "\n",
            "Copying images into  pizza\n",
            "\n",
            "Copying images into  pork_chop\n",
            "\n",
            "Copying images into  poutine\n",
            "\n",
            "Copying images into  prime_rib\n",
            "\n",
            "Copying images into  pulled_pork_sandwich\n",
            "\n",
            "Copying images into  ramen\n",
            "\n",
            "Copying images into  ravioli\n",
            "\n",
            "Copying images into  red_velvet_cake\n",
            "\n",
            "Copying images into  risotto\n",
            "\n",
            "Copying images into  samosa\n",
            "\n",
            "Copying images into  sashimi\n",
            "\n",
            "Copying images into  scallops\n",
            "\n",
            "Copying images into  seaweed_salad\n",
            "\n",
            "Copying images into  shrimp_and_grits\n",
            "\n",
            "Copying images into  spaghetti_bolognese\n",
            "\n",
            "Copying images into  spaghetti_carbonara\n",
            "\n",
            "Copying images into  spring_rolls\n",
            "\n",
            "Copying images into  steak\n",
            "\n",
            "Copying images into  strawberry_shortcake\n",
            "\n",
            "Copying images into  sushi\n",
            "\n",
            "Copying images into  tacos\n",
            "\n",
            "Copying images into  takoyaki\n",
            "\n",
            "Copying images into  tiramisu\n",
            "\n",
            "Copying images into  tuna_tartare\n",
            "\n",
            "Copying images into  waffles\n",
            "Copying Done!\n"
          ]
        }
      ]
    },
    {
      "cell_type": "code",
      "source": [
        "!find test/apple_pie -type f | wc -w  # 하나의 음식당 test는 250개"
      ],
      "metadata": {
        "colab": {
          "base_uri": "https://localhost:8080/"
        },
        "id": "yIzkGaGVmIgb",
        "outputId": "82efc6bd-935e-4ce2-cdc0-049fe6d1633d"
      },
      "execution_count": 23,
      "outputs": [
        {
          "output_type": "stream",
          "name": "stdout",
          "text": [
            "250\n"
          ]
        }
      ]
    },
    {
      "cell_type": "code",
      "source": [
        "!find train/apple_pie -type f | wc -w  # train은 750개 합해서 1000개."
      ],
      "metadata": {
        "colab": {
          "base_uri": "https://localhost:8080/"
        },
        "id": "h8F-ZHcvmoVe",
        "outputId": "88d18acd-b558-4bb0-8c8b-3b99fa3ba14a"
      },
      "execution_count": 24,
      "outputs": [
        {
          "output_type": "stream",
          "name": "stdout",
          "text": [
            "750\n"
          ]
        }
      ]
    },
    {
      "cell_type": "code",
      "source": [
        "# 데이터 사이즈를 보기\n",
        "test_image_1 = Image.open(\"/content/train/apple_pie/1005649.jpg\")\n",
        "width, height = test_image_1.size\n",
        "print(width, height)\n",
        "\n",
        "test_image_2 = Image.open(\"/content/train/apple_pie/1014775.jpg\")\n",
        "width, height = test_image_2.size\n",
        "print(width, height)\n",
        "\n",
        "test_image_3 = Image.open(\"/content/train/apple_pie/1026328.jpg\")\n",
        "width, height = test_image_3.size\n",
        "print(width, height)"
      ],
      "metadata": {
        "colab": {
          "base_uri": "https://localhost:8080/"
        },
        "id": "rEK-GYjRnZRw",
        "outputId": "25eafd5e-439e-4693-eb40-4c1dd7d114ed"
      },
      "execution_count": 29,
      "outputs": [
        {
          "output_type": "stream",
          "name": "stdout",
          "text": [
            "308 512\n",
            "512 512\n",
            "512 512\n"
          ]
        }
      ]
    }
  ]
}