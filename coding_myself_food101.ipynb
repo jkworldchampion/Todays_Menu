{
  "nbformat": 4,
  "nbformat_minor": 0,
  "metadata": {
    "colab": {
      "name": "coding_myself.ipynb",
      "provenance": [],
      "collapsed_sections": [],
      "authorship_tag": "ABX9TyP99qmqRTj1ZQHAM9fdIsDq",
      "include_colab_link": true
    },
    "kernelspec": {
      "name": "python3",
      "display_name": "Python 3"
    },
    "language_info": {
      "name": "python"
    }
  },
  "cells": [
    {
      "cell_type": "markdown",
      "metadata": {
        "id": "view-in-github",
        "colab_type": "text"
      },
      "source": [
        "<a href=\"https://colab.research.google.com/github/jkworldchampion/Todays_Menu/blob/main/coding_myself_food101.ipynb\" target=\"_parent\"><img src=\"https://colab.research.google.com/assets/colab-badge.svg\" alt=\"Open In Colab\"/></a>"
      ]
    },
    {
      "cell_type": "code",
      "execution_count": 9,
      "metadata": {
        "colab": {
          "base_uri": "https://localhost:8080/"
        },
        "id": "e2znYaZ-mYj6",
        "outputId": "87ab1e63-32e0-47e7-a688-3124789bd262"
      },
      "outputs": [
        {
          "output_type": "stream",
          "name": "stdout",
          "text": [
            "2.8.2\n"
          ]
        }
      ],
      "source": [
        "# TensorFlow and tf.keras\n",
        "import tensorflow as tf  \n",
        "\n",
        "# Helper libraries\n",
        "import numpy as np\n",
        "import matplotlib.pyplot as plt\n",
        "import os\n",
        "from collections import defaultdict\n",
        "import copy\n",
        "\n",
        "print(tf.__version__)"
      ]
    },
    {
      "cell_type": "markdown",
      "source": [
        "## 데이터 불러오기"
      ],
      "metadata": {
        "id": "z_TBytFtmvDQ"
      }
    },
    {
      "cell_type": "code",
      "source": [
        "!wget \"http://data.vision.ee.ethz.ch/cvl/food-101.tar.gz\""
      ],
      "metadata": {
        "colab": {
          "base_uri": "https://localhost:8080/"
        },
        "id": "6JD5gmRBmr7_",
        "outputId": "9c88428f-d4db-4ccc-aa24-35ff074427cb"
      },
      "execution_count": 3,
      "outputs": [
        {
          "output_type": "stream",
          "name": "stdout",
          "text": [
            "--2022-06-06 10:44:14--  http://data.vision.ee.ethz.ch/cvl/food-101.tar.gz\n",
            "Resolving data.vision.ee.ethz.ch (data.vision.ee.ethz.ch)... 129.132.52.178, 2001:67c:10ec:36c2::178\n",
            "Connecting to data.vision.ee.ethz.ch (data.vision.ee.ethz.ch)|129.132.52.178|:80... connected.\n",
            "HTTP request sent, awaiting response... 302 Found\n",
            "Location: https://data.vision.ee.ethz.ch/cvl/food-101.tar.gz [following]\n",
            "--2022-06-06 10:44:15--  https://data.vision.ee.ethz.ch/cvl/food-101.tar.gz\n",
            "Connecting to data.vision.ee.ethz.ch (data.vision.ee.ethz.ch)|129.132.52.178|:443... connected.\n",
            "HTTP request sent, awaiting response... 200 OK\n",
            "Length: 4996278331 (4.7G) [application/x-gzip]\n",
            "Saving to: ‘food-101.tar.gz’\n",
            "\n",
            "food-101.tar.gz     100%[===================>]   4.65G  19.4MB/s    in 4m 20s  \n",
            "\n",
            "2022-06-06 10:48:35 (18.4 MB/s) - ‘food-101.tar.gz’ saved [4996278331/4996278331]\n",
            "\n"
          ]
        }
      ]
    },
    {
      "cell_type": "code",
      "source": [
        "!tar xzf food-101.tar.gz  # -v 옵션은 과정이 너무 길어.\n",
        "print(\"압축 해제 완료\")"
      ],
      "metadata": {
        "colab": {
          "base_uri": "https://localhost:8080/"
        },
        "id": "H1UuYLAqnYjO",
        "outputId": "fb067c43-b033-4deb-d61b-4d8e1295bc59"
      },
      "execution_count": 5,
      "outputs": [
        {
          "output_type": "stream",
          "name": "stdout",
          "text": [
            "압축 해제\n"
          ]
        }
      ]
    },
    {
      "cell_type": "code",
      "source": [
        "# trian과 test로 나눈다.\n",
        "def prepare_data(filepath, src, dest):\n",
        "  classes_images = defaultdict(list)  # 값을 지정하지 않으면 해당 값의 key값이 리스트로 디폴트된다.\n",
        "  with open(filepath, 'r') as txt:  # filepath의 파일을 읽기모드로 열어서 txt라고 지명한다.\n",
        "      paths = [read.strip() for read in txt.readlines()] # paths는 한 줄씩 읽은 데이터를 앞뒤의 \\n을 제거한 깔끔한 리스트\n",
        "      for p in paths:  # 리스트에서 한줄씩 p에 할당\n",
        "        food = p.split('/')  # '음식이름/번호'의 데이터를 / 로 나누기\n",
        "        classes_images[food[0]].append(food[1] + '.jpg')  # classes_images리스트에 음식이름에 번호들을 저장.jpg를 붙여서\n",
        "\n",
        "  for food in classes_images.keys():  # 음식이름이 하나씩 food에 할당\n",
        "    print(\"\\nCopying images into \",food) # 무슨 음식 하는지 출력\n",
        "    if not os.path.exists(os.path.join(dest,food)):  # dest/food파일이 존재하지 않는다면\n",
        "      os.makedirs(os.path.join(dest,food))  # 해당 파일을 만든다.\n",
        "    for i in classes_images[food]:\n",
        "      copy(os.path.join(src,food,i), os.path.join(dest,food,i))\n",
        "  print(\"Copying Done!\")"
      ],
      "metadata": {
        "id": "4YqCJTWUoQnu"
      },
      "execution_count": 10,
      "outputs": []
    },
    {
      "cell_type": "code",
      "source": [
        ""
      ],
      "metadata": {
        "id": "iMQf7vToqVok"
      },
      "execution_count": null,
      "outputs": []
    },
    {
      "cell_type": "code",
      "source": [
        "prepare_data('/content/food-101/meta/train.txt', '/content/food-101/images', 'train')"
      ],
      "metadata": {
        "colab": {
          "base_uri": "https://localhost:8080/"
        },
        "id": "XDDTmbnip35j",
        "outputId": "bdd15407-3e62-4521-92e7-301f95b0173c"
      },
      "execution_count": 11,
      "outputs": [
        {
          "output_type": "stream",
          "name": "stdout",
          "text": [
            "/\n"
          ]
        }
      ]
    }
  ]
}