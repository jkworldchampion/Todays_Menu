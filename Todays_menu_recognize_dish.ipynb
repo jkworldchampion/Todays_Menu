{
  "nbformat": 4,
  "nbformat_minor": 0,
  "metadata": {
    "colab": {
      "name": "Todays_menu_recognize_dish.ipynb",
      "provenance": [],
      "include_colab_link": true
    },
    "kernelspec": {
      "name": "python3",
      "display_name": "Python 3"
    },
    "language_info": {
      "name": "python"
    }
  },
  "cells": [
    {
      "cell_type": "markdown",
      "metadata": {
        "id": "view-in-github",
        "colab_type": "text"
      },
      "source": [
        "<a href=\"https://colab.research.google.com/github/jkworldchampion/Todays_Menu/blob/main/Todays_menu_recognize_dish.ipynb\" target=\"_parent\"><img src=\"https://colab.research.google.com/assets/colab-badge.svg\" alt=\"Open In Colab\"/></a>"
      ]
    },
    {
      "cell_type": "code",
      "execution_count": null,
      "metadata": {
        "colab": {
          "base_uri": "https://localhost:8080/"
        },
        "id": "8cg5OkXpPrVL",
        "outputId": "fea24d45-1e0a-42ac-ac07-7af4c668cf9e"
      },
      "outputs": [
        {
          "output_type": "stream",
          "name": "stdout",
          "text": [
            "Drive already mounted at /content/drive; to attempt to forcibly remount, call drive.mount(\"/content/drive\", force_remount=True).\n"
          ]
        }
      ],
      "source": [
        "# 드라이브 마운트\n",
        "from google.colab import drive\n",
        "drive.mount('/content/drive')"
      ]
    },
    {
      "cell_type": "code",
      "source": [
        "cd \"/content/drive/MyDrive/Colab_Notebooks/Project/Todays_Menu\""
      ],
      "metadata": {
        "colab": {
          "base_uri": "https://localhost:8080/"
        },
        "id": "IC3GWl8WP0gK",
        "outputId": "47872624-039a-4c96-f2cf-7c7204841e39"
      },
      "execution_count": null,
      "outputs": [
        {
          "output_type": "stream",
          "name": "stdout",
          "text": [
            "/content/drive/MyDrive/Colab_Notebooks/Project/Todays_Menu\n"
          ]
        }
      ]
    },
    {
      "cell_type": "code",
      "source": [
        "import json\n",
        "import os\n",
        "\n",
        "import tensorflow as tf\n",
        "import tensorflow_datasets.public_api as tfds\n",
        "\n",
        "_BASE_URL = \"http://data.vision.ee.ethz.ch/cvl/food-101.tar.gz\"\n",
        "\n",
        "_DESCRIPTION = (\n",
        "    \"This dataset consists of 101 food categories, with 101'000 images. For \"\n",
        "    \"each class, 250 manually reviewed test images are provided as well as 750\"\n",
        "    \" training images. On purpose, the training images were not cleaned, and \"\n",
        "    \"thus still contain some amount of noise. This comes mostly in the form of\"\n",
        "    \" intense colors and sometimes wrong labels. All images were rescaled to \"\n",
        "    \"have a maximum side length of 512 pixels.\")\n",
        "\n",
        "_LABELS_FNAME = \"image_classification/food-101_classes.txt\"\n",
        "\n",
        "_CITATION = \"\"\"\\\n",
        " @inproceedings{bossard14,\n",
        "  title = {Food-101 -- Mining Discriminative Components with Random Forests},\n",
        "  author = {Bossard, Lukas and Guillaumin, Matthieu and Van Gool, Luc},\n",
        "  booktitle = {European Conference on Computer Vision},\n",
        "  year = {2014}\n",
        "}\n",
        "\"\"\"\n",
        "\n",
        "\n",
        "class Food101(tfds.core.GeneratorBasedBuilder):\n",
        "  \"\"\"Food-101 Images dataset.\"\"\"\n",
        "\n",
        "  VERSION = tfds.core.Version(\"2.0.0\")\n",
        "  SUPPORTED_VERSIONS = [\n",
        "      tfds.core.Version(\n",
        "          \"1.0.0\",\n",
        "          tfds_version_to_prepare=\"8cea22f06d74d5848608fe7ac6d6faac7bc05b55\"),\n",
        "      tfds.core.Version(\"2.1.0\"),\n",
        "  ]\n",
        "\n",
        "  def _info(self):\n",
        "    \"\"\"Define Dataset Info.\"\"\"\n",
        "\n",
        "    names_file = tfds.core.tfds_path(_LABELS_FNAME)\n",
        "    features_dict = {\n",
        "        \"image\": tfds.features.Image(),\n",
        "        \"label\": tfds.features.ClassLabel(names_file=names_file),\n",
        "    }\n",
        "    if self.version > \"2.0.0\":\n",
        "      features_dict[\"id\"] = tfds.features.Text()\n",
        "    return tfds.core.DatasetInfo(\n",
        "        builder=self,\n",
        "        description=(_DESCRIPTION),\n",
        "        features=tfds.features.FeaturesDict(features_dict),\n",
        "        supervised_keys=(\"image\", \"label\"),\n",
        "        homepage=\"https://data.vision.ee.ethz.ch/cvl/datasets_extra/food-101/\",\n",
        "        citation=_CITATION)\n",
        "\n",
        "  def _split_generators(self, dl_manager):\n",
        "    \"\"\"Define Splits.\"\"\"\n",
        "\n",
        "    dl_path = dl_manager.download_and_extract(_BASE_URL)\n",
        "    meta_path = os.path.join(dl_path, \"food-101\", \"meta\")\n",
        "    image_dir_path = os.path.join(dl_path, \"food-101\", \"images\")\n",
        "\n",
        "    return [\n",
        "        tfds.core.SplitGenerator(\n",
        "            name=tfds.Split.TRAIN,\n",
        "            gen_kwargs={\n",
        "                \"json_file_path\": os.path.join(meta_path, \"train.json\"),\n",
        "                \"image_dir_path\": image_dir_path\n",
        "            },\n",
        "        ),\n",
        "        tfds.core.SplitGenerator(\n",
        "            name=tfds.Split.VALIDATION,\n",
        "            gen_kwargs={\n",
        "                \"json_file_path\": os.path.join(meta_path, \"test.json\"),\n",
        "                \"image_dir_path\": image_dir_path\n",
        "            },\n",
        "        ),\n",
        "    ]\n",
        "\n",
        "  def _generate_examples(self, json_file_path, image_dir_path):\n",
        "    \"\"\"Generate images and labels for splits.\"\"\"\n",
        "    with tf.io.gfile.GFile(json_file_path) as f:\n",
        "      data = json.loads(f.read())\n",
        "    for label, images in data.items():\n",
        "      for image_name in images:\n",
        "        image = os.path.join(image_dir_path, image_name + \".jpg\")\n",
        "        features = {\"image\": image, \"label\": label}\n",
        "        if self.version > \"2.0.0\":\n",
        "          features[\"id\"] = image_name\n",
        "        yield image_name, features"
      ],
      "metadata": {
        "id": "lf3WkmQXLwJu"
      },
      "execution_count": null,
      "outputs": []
    },
    {
      "cell_type": "code",
      "source": [
        "from tensorflow_datasets.image_classification import food101\n",
        "import tensorflow_datasets.testing as tfds_test\n",
        "\n",
        "\n",
        "class Food101Test(tfds_test.DatasetBuilderTestCase):\n",
        "  DATASET_CLASS = food101.Food101\n",
        "  SPLITS = {\n",
        "      \"train\": 4,\n",
        "      \"validation\": 4,\n",
        "  }\n",
        "\n",
        "\n",
        "if __name__ == \"__main__\":\n",
        "  tfds_test.test_main()"
      ],
      "metadata": {
        "id": "8Z_5699ZJuAa"
      },
      "execution_count": null,
      "outputs": []
    }
  ]
}