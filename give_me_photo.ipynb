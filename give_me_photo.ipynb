{
  "nbformat": 4,
  "nbformat_minor": 0,
  "metadata": {
    "colab": {
      "name": "give_me_photo.ipynb",
      "provenance": [],
      "collapsed_sections": [],
      "authorship_tag": "ABX9TyOwlnFMTsBQQCaiIHbja0r6",
      "include_colab_link": true
    },
    "kernelspec": {
      "name": "python3",
      "display_name": "Python 3"
    },
    "language_info": {
      "name": "python"
    }
  },
  "cells": [
    {
      "cell_type": "markdown",
      "metadata": {
        "id": "view-in-github",
        "colab_type": "text"
      },
      "source": [
        "<a href=\"https://colab.research.google.com/github/jkworldchampion/Todays_Menu/blob/main/give_me_photo.ipynb\" target=\"_parent\"><img src=\"https://colab.research.google.com/assets/colab-badge.svg\" alt=\"Open In Colab\"/></a>"
      ]
    },
    {
      "cell_type": "markdown",
      "source": [
        "라즈베리파이에 카메라를 부착한 뒤 이용한다는 가정이었지만, 해당 코드는 윈도우 환경에서 시험해 볼 수 없기에, 이와같은 노트북을 이용한 코드를 짬."
      ],
      "metadata": {
        "id": "3nzzzNYIDCcV"
      }
    },
    {
      "cell_type": "code",
      "source": [
        "# importing OpenCV library\n",
        "from cv2 import *\n",
        "  \n",
        "cam = VideoCapture(0)  # initialize the camera\n",
        "  \n",
        "# reading the input using the camera\n",
        "result, image = cam.read()\n",
        "  \n",
        "# If image will detected without any error, \n",
        "# show result\n",
        "if result:\n",
        "  \n",
        "    # showing result, it take frame name and image \n",
        "    # output\n",
        "    imshow(\"now_image\", image)\n",
        "  \n",
        "    # saving image in local storage\n",
        "    imwrite(\"now_image.png\", image)\n",
        "  \n",
        "# If captured image is corrupted, moving to else part\n",
        "else:\n",
        "    print(\"No image detected. Please! try again\")"
      ],
      "metadata": {
        "colab": {
          "base_uri": "https://localhost:8080/"
        },
        "id": "_sr4bM_g-48g",
        "outputId": "58514a30-6d99-4ae6-e2ef-6a6797b69191"
      },
      "execution_count": 9,
      "outputs": [
        {
          "output_type": "stream",
          "name": "stdout",
          "text": [
            "No image detected. Please! try again\n"
          ]
        }
      ]
    },
    {
      "cell_type": "markdown",
      "source": [
        "라즈베리파이에 장착한 카메라를 이용해 사진 찍기"
      ],
      "metadata": {
        "id": "eoyy-XMtC8yM"
      }
    },
    {
      "cell_type": "code",
      "source": [
        "from picamera import PiCamera  # 해당 라이브러리는 윈도우에서 작동을 안한다.\n",
        "from time import sleep\n",
        "\n",
        "camera = PiCamera()\n",
        "\n",
        "camera.start_preview()\n",
        "sleep(5)\n",
        "camera.capture('/refrigerator/image.jpg')\n",
        "camera.stop_preview()"
      ],
      "metadata": {
        "id": "jKXr2lsUCc8G"
      },
      "execution_count": null,
      "outputs": []
    },
    {
      "cell_type": "markdown",
      "source": [
        "해당 코드는 냉장고 문이 열리면 사진을 찍는 코드"
      ],
      "metadata": {
        "id": "Ne7BL5xpC3VI"
      }
    },
    {
      "cell_type": "code",
      "source": [
        "from picamera import PiCamera\n",
        "from time import sleep\n",
        "\n",
        "camera = PiCamera()\n",
        "\n",
        "camera.start_preview()\n",
        "is_open = False # 냉장고 문이 닫힐때 특정 스위치가 눌려 is_open을 True로 만든다.\n",
        "while ():   # 이 코드는 항상 돌아가게 되어있다.\n",
        "    if (is_open):\n",
        "        sleep(5)\n",
        "        camera.capture('/refrigerator/image%s.jpg' % i)\n",
        "        is_open = False\n",
        "camera.stop_preview()"
      ],
      "metadata": {
        "id": "f7FZ6dsAC2FP"
      },
      "execution_count": null,
      "outputs": []
    }
  ]
}