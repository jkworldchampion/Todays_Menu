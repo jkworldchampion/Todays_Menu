{
  "nbformat": 4,
  "nbformat_minor": 0,
  "metadata": {
    "colab": {
      "name": "git_manage.ipynb",
      "provenance": [],
      "collapsed_sections": [],
      "mount_file_id": "1TAFdIsZtIm56Uy0PRgwQWI7lMrgWXms2",
      "authorship_tag": "ABX9TyPhwGZSxaMk2BhUITZpwdy1",
      "include_colab_link": true
    },
    "kernelspec": {
      "name": "python3",
      "display_name": "Python 3"
    },
    "language_info": {
      "name": "python"
    }
  },
  "cells": [
    {
      "cell_type": "markdown",
      "metadata": {
        "id": "view-in-github",
        "colab_type": "text"
      },
      "source": [
        "<a href=\"https://colab.research.google.com/github/jkworldchampion/Todays_Menu/blob/main/git_manage.ipynb\" target=\"_parent\"><img src=\"https://colab.research.google.com/assets/colab-badge.svg\" alt=\"Open In Colab\"/></a>"
      ]
    },
    {
      "cell_type": "code",
      "execution_count": null,
      "metadata": {
        "colab": {
          "base_uri": "https://localhost:8080/"
        },
        "id": "Kc8B3LO_8A5E",
        "outputId": "23477312-e227-4af0-f45a-59db7adfee6c"
      },
      "outputs": [
        {
          "output_type": "stream",
          "name": "stdout",
          "text": [
            "Drive already mounted at /content/drive; to attempt to forcibly remount, call drive.mount(\"/content/drive\", force_remount=True).\n"
          ]
        }
      ],
      "source": [
        "# 드라이브 마운트\n",
        "from google.colab import drive\n",
        "drive.mount('/content/drive')"
      ]
    },
    {
      "cell_type": "code",
      "source": [
        "cd \"/content/drive/MyDrive/Colab_Notebooks/Project/Todays_Menu\""
      ],
      "metadata": {
        "colab": {
          "base_uri": "https://localhost:8080/"
        },
        "id": "fazHZVHq8MD9",
        "outputId": "6b01216b-7352-49ef-f55c-513530f69d23"
      },
      "execution_count": null,
      "outputs": [
        {
          "output_type": "stream",
          "name": "stdout",
          "text": [
            "/content/drive/MyDrive/Colab_Notebooks/Project/Todays_Menu\n"
          ]
        }
      ]
    },
    {
      "cell_type": "code",
      "source": [
        "! ls"
      ],
      "metadata": {
        "colab": {
          "base_uri": "https://localhost:8080/"
        },
        "id": "MJCJAnyN9mdT",
        "outputId": "b0cd969c-74fe-475b-b131-be497eb92db1"
      },
      "execution_count": null,
      "outputs": [
        {
          "output_type": "stream",
          "name": "stdout",
          "text": [
            "git_manage.ipynb  README.md  vanilla_recognize.ipynb\n"
          ]
        }
      ]
    },
    {
      "cell_type": "code",
      "source": [
        "! git config --global user.email \"standardjuhwan@gmail.com\"\n",
        "! git config --global user.name \"JuHwan_Park\""
      ],
      "metadata": {
        "id": "YcQIYrRS-DOb"
      },
      "execution_count": null,
      "outputs": []
    },
    {
      "cell_type": "code",
      "source": [
        "! git add ."
      ],
      "metadata": {
        "id": "eBRHXBMu8hw0"
      },
      "execution_count": null,
      "outputs": []
    },
    {
      "cell_type": "code",
      "source": [
        "! git commit -m \"add git_manage file\""
      ],
      "metadata": {
        "id": "FXb4iSA98jW3",
        "colab": {
          "base_uri": "https://localhost:8080/"
        },
        "outputId": "48082e50-abef-4c0d-b67f-6cc1fa451e59"
      },
      "execution_count": null,
      "outputs": [
        {
          "output_type": "stream",
          "name": "stdout",
          "text": [
            "On branch main\n",
            "Your branch is ahead of 'origin/main' by 1 commit.\n",
            "  (use \"git push\" to publish your local commits)\n",
            "\n",
            "Changes not staged for commit:\n",
            "\t\u001b[31mmodified:   git_manage.ipynb\u001b[m\n",
            "\n",
            "no changes added to commit\n"
          ]
        }
      ]
    },
    {
      "cell_type": "code",
      "source": [
        "! git push origin main"
      ],
      "metadata": {
        "colab": {
          "base_uri": "https://localhost:8080/"
        },
        "id": "ktJYW8JT-WEa",
        "outputId": "c43a5581-0155-401a-da99-3e96b152e8fb"
      },
      "execution_count": null,
      "outputs": [
        {
          "output_type": "stream",
          "name": "stdout",
          "text": [
            "fatal: could not read Username for 'https://github.com': No such device or address\n"
          ]
        }
      ]
    },
    {
      "cell_type": "code",
      "source": [
        ""
      ],
      "metadata": {
        "colab": {
          "base_uri": "https://localhost:8080/"
        },
        "id": "qINRTu5f-Y9U",
        "outputId": "baef5948-aa55-412e-ab5c-84c171a50c7b"
      },
      "execution_count": null,
      "outputs": [
        {
          "output_type": "stream",
          "name": "stdout",
          "text": [
            "* \u001b[32mmain\u001b[m\n"
          ]
        }
      ]
    }
  ]
}